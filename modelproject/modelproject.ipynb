{
 "cells": [
  {
   "attachments": {},
   "cell_type": "markdown",
   "metadata": {},
   "source": [
    "# Solving the OLG model under the PAYG system"
   ]
  },
  {
   "attachments": {},
   "cell_type": "markdown",
   "metadata": {},
   "source": [
    "Importing packages and sets magic"
   ]
  },
  {
   "cell_type": "code",
   "execution_count": 156,
   "metadata": {},
   "outputs": [
    {
     "name": "stdout",
     "output_type": "stream",
     "text": [
      "The autoreload extension is already loaded. To reload it, use:\n",
      "  %reload_ext autoreload\n"
     ]
    }
   ],
   "source": [
    "from types import SimpleNamespace\n",
    "\n",
    "from scipy import optimize\n",
    "import numpy as np\n",
    "import sympy as sp\n",
    "import matplotlib.pyplot as plt\n",
    "\n",
    "# autoreload modules when code is run\n",
    "%load_ext autoreload\n",
    "%autoreload 2\n",
    "\n",
    "# local modules\n",
    "import modelproject"
   ]
  },
  {
   "cell_type": "markdown",
   "metadata": {},
   "source": [
    "# Model description"
   ]
  },
  {
   "cell_type": "markdown",
   "metadata": {},
   "source": [
    "**Write out the model in equations here.** \n",
    "\n",
    "Make sure you explain well the purpose of the model and comment so that other students who may not have seen it before can follow.  "
   ]
  },
  {
   "cell_type": "markdown",
   "metadata": {},
   "source": [
    "## Analytical solution"
   ]
  },
  {
   "attachments": {},
   "cell_type": "markdown",
   "metadata": {},
   "source": [
    "In this section the OLG model under a PAYG system is found anatically. The optimal levels of the intertemporal consumption, savings and capital accumulation are displayed, as well as the steady-state level of capital. First, we import our model from our .py file"
   ]
  },
  {
   "cell_type": "code",
   "execution_count": 157,
   "metadata": {},
   "outputs": [],
   "source": [
    "model = modelproject.OLGModel()\n",
    "par = model.par"
   ]
  },
  {
   "cell_type": "code",
   "execution_count": 158,
   "metadata": {},
   "outputs": [
    {
     "name": "stdout",
     "output_type": "stream",
     "text": [
      "Utility Function:\n"
     ]
    },
    {
     "data": {
      "text/latex": [
       "$\\displaystyle U = \\log{\\left(c_{1t} \\right)} + \\frac{\\log{\\left(c_{2t+1} \\right)}}{\\rho + 1}$"
      ],
      "text/plain": [
       "Eq(U, log(c_1t) + log(c_{2t+1})/(rho + 1))"
      ]
     },
     "metadata": {},
     "output_type": "display_data"
    },
    {
     "name": "stdout",
     "output_type": "stream",
     "text": [
      "Euler:\n"
     ]
    },
    {
     "data": {
      "text/latex": [
       "$\\displaystyle c_{1t} = \\frac{c_{2t+1} \\left(\\rho + 1\\right)}{r_{t+1} + 1}$"
      ],
      "text/plain": [
       "Eq(c_1t, c_{2t+1}*(rho + 1)/(r_{t+1} + 1))"
      ]
     },
     "metadata": {},
     "output_type": "display_data"
    }
   ],
   "source": [
    "print('Utility Function:')\n",
    "display(sp.Eq(sp.symbols('U'),model.utility()))\n",
    "print('Euler:')\n",
    "display(model.euler())\n",
    "\n"
   ]
  },
  {
   "attachments": {},
   "cell_type": "markdown",
   "metadata": {},
   "source": [
    "Where $c_{1t}$ and $c_{2t+1}$ in the Euler equation are the derivative of the utility function wrt. the respective variables. We now move on to find the optimal savings in this economy,"
   ]
  },
  {
   "cell_type": "code",
   "execution_count": 159,
   "metadata": {},
   "outputs": [
    {
     "name": "stdout",
     "output_type": "stream",
     "text": [
      "Optimal savings:\n"
     ]
    },
    {
     "data": {
      "text/latex": [
       "$\\displaystyle s_{t} = \\frac{- n \\rho \\tau w_{t+1} - n \\tau w_{t+1} + r_{t+1} \\tau w_{t} - r_{t+1} w_{t} - \\rho \\tau w_{t+1} + \\tau w_{t} - \\tau w_{t+1} - w_{t}}{\\rho \\left(r_{t+1} + 1\\right)}$"
      ],
      "text/plain": [
       "Eq(s_t, (-n*rho*tau*w_{t+1} - n*tau*w_{t+1} + r_{t+1}*tau*w_t - r_{t+1}*w_t - rho*tau*w_{t+1} + tau*w_t - tau*w_{t+1} - w_t)/(rho*(r_{t+1} + 1)))"
      ]
     },
     "metadata": {},
     "output_type": "display_data"
    }
   ],
   "source": [
    "print('Optimal savings:')\n",
    "display(sp.Eq(par.s_t,model.savings()))"
   ]
  },
  {
   "attachments": {},
   "cell_type": "markdown",
   "metadata": {},
   "source": [
    "With the optimal savings in place, we can now move on to find the capital accumulation, and the steady state of this, "
   ]
  },
  {
   "cell_type": "code",
   "execution_count": 160,
   "metadata": {},
   "outputs": [
    {
     "name": "stdout",
     "output_type": "stream",
     "text": [
      "Capital Accumulation:\n"
     ]
    },
    {
     "data": {
      "text/latex": [
       "$\\displaystyle k_{t+1} = \\frac{A k_{t}^{\\alpha} \\left(1 - \\alpha\\right) \\left(1 - \\tau\\right)}{\\left(1 + \\frac{\\tau \\left(1 - \\alpha\\right) \\left(\\rho + 1\\right)}{\\alpha \\left(\\rho + 2\\right)}\\right) \\left(n + 1\\right) \\left(\\rho + 2\\right)}$"
      ],
      "text/plain": [
       "Eq(k_{t+1}, A*k_t**alpha*(1 - alpha)*(1 - tau)/((1 + tau*(1 - alpha)*(rho + 1)/(alpha*(rho + 2)))*(n + 1)*(rho + 2)))"
      ]
     },
     "metadata": {},
     "output_type": "display_data"
    },
    {
     "name": "stdout",
     "output_type": "stream",
     "text": [
      "Steady State:\n"
     ]
    },
    {
     "data": {
      "text/latex": [
       "$\\displaystyle k^{*} = \\left(\\frac{A \\left(1 - \\alpha\\right) \\left(1 - \\tau\\right)}{\\left(1 + \\frac{\\tau \\left(1 - \\alpha\\right) \\left(\\rho + 1\\right)}{\\alpha \\left(\\rho + 2\\right)}\\right) \\left(n + 1\\right) \\left(\\rho + 2\\right)}\\right)^{\\frac{1}{1 - \\alpha}}$"
      ],
      "text/plain": [
       "Eq(k^*, (A*(1 - alpha)*(1 - tau)/((1 + tau*(1 - alpha)*(rho + 1)/(alpha*(rho + 2)))*(n + 1)*(rho + 2)))**(1/(1 - alpha)))"
      ]
     },
     "metadata": {},
     "output_type": "display_data"
    }
   ],
   "source": [
    "print('Capital Accumulation:')\n",
    "display(model.capitalaccum())\n",
    "print('Steady State:')\n",
    "display(model.steadystatecap())"
   ]
  },
  {
   "cell_type": "markdown",
   "metadata": {},
   "source": [
    "## Numerical solution"
   ]
  },
  {
   "attachments": {},
   "cell_type": "markdown",
   "metadata": {},
   "source": [
    "We can now try to plot our model for different values of the parameters. Let's start by examining how the steady state looks."
   ]
  },
  {
   "cell_type": "code",
   "execution_count": 195,
   "metadata": {},
   "outputs": [
    {
     "data": {
      "image/png": "[encoded data removed]",
      "text/plain": [
       "<Figure size 640x480 with 1 Axes>"
      ]
     },
     "metadata": {},
     "output_type": "display_data"
    }
   ],
   "source": [
    "alpha = 1/3\n",
    "rho = 0.4\n",
    "n = 0.01\n",
    "tau = 0.35\n",
    "A = 20\n",
    "\n",
    "T = 10 # Number of periods to simulate\n",
    "\n",
    "# Initializing arrays to store the values of the endogenous variables\n",
    "k_t = np.zeros(T)\n",
    "\n",
    "# Setting the initial values of the endogenous variables\n",
    "k_t[0]=0.01\n",
    "\n",
    "k_t = np.linspace(1,20,100)\n",
    "\n",
    "k_t1 = []\n",
    "\n",
    "# Simulating the model\n",
    "for k_t in k_t:\n",
    "    k_t1 = (1/(1+(1+rho)/(2+rho)*((1-alpha)/alpha)*tau))*((1-alpha)*(1-tau))/((1+n)*(2+rho))*A * k_t**(alpha)\n",
    "\n",
    "plt.plot(k_t1)\n",
    "plt.show()\n"
   ]
  },
  {
   "cell_type": "markdown",
   "metadata": {},
   "source": [
    "# Further analysis"
   ]
  },
  {
   "cell_type": "markdown",
   "metadata": {},
   "source": [
    "Make detailed vizualizations of how your model changes with parameter values. \n",
    "\n",
    "Try to make an extension of the model. "
   ]
  },
  {
   "cell_type": "markdown",
   "metadata": {},
   "source": [
    "# Conclusion"
   ]
  },
  {
   "cell_type": "markdown",
   "metadata": {},
   "source": [
    "Add concise conclusion. "
   ]
  }
 ],
 "metadata": {
  "kernelspec": {
   "display_name": "base",
   "language": "python",
   "name": "python3"
  },
  "language_info": {
   "codemirror_mode": {
    "name": "ipython",
    "version": 3
   },
   "file_extension": ".py",
   "mimetype": "text/x-python",
   "name": "python",
   "nbconvert_exporter": "python",
   "pygments_lexer": "ipython3",
   "version": "3.9.13"
  },
  "toc-autonumbering": true,
  "vscode": {
   "interpreter": {
    "hash": "2902b14be4e725fa6927c875e12e74c9b7ef1d49d16d894b6a88d5f690ec491c"
   }
  }
 },
 "nbformat": 4,
 "nbformat_minor": 4
}
