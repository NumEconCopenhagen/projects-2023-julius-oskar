{
 "cells": [
  {
   "attachments": {},
   "cell_type": "markdown",
   "metadata": {},
   "source": [
    "**Table of contents**<a id='toc0_'></a>    \n",
    "- 1. [Problem 1: Optimal taxation with government consumption](#toc1_)    \n",
    "- 2. [Problem 2: Labor adjustment costs](#toc2_)    \n",
    "- 3. [Problem 3: Global optimizer with refined multi-start](#toc3_)    \n",
    "\n",
    "<!-- vscode-jupyter-toc-config\n",
    "\tnumbering=true\n",
    "\tanchor=true\n",
    "\tflat=false\n",
    "\tminLevel=2\n",
    "\tmaxLevel=6\n",
    "\t/vscode-jupyter-toc-config -->\n",
    "<!-- THIS CELL WILL BE REPLACED ON TOC UPDATE. DO NOT WRITE YOUR TEXT IN THIS CELL -->"
   ]
  },
  {
   "cell_type": "code",
   "execution_count": 1,
   "metadata": {},
   "outputs": [],
   "source": [
    "# Importing libraries and setting dependencies\n",
    "import numpy as np\n",
    "import matplotlib.pyplot as plt\n",
    "plt.rcParams['text.usetex'] = True\n",
    "import sympy as sp\n",
    "import ipywidgets as widgets\n",
    "from scipy.optimize import minimize_scalar\n",
    "from scipy import optimize\n",
    "import pandas as pd\n",
    "from scipy.optimize import minimize"
   ]
  },
  {
   "attachments": {},
   "cell_type": "markdown",
   "metadata": {},
   "source": [
    "## 1. <a id='toc1_'></a>[Problem 1: Optimal taxation with government consumption](#toc0_)"
   ]
  },
  {
   "attachments": {},
   "cell_type": "markdown",
   "metadata": {},
   "source": [
    "\n",
    "Consider a worker choosing hours of labor, $L\\in[0,24]$, to maximize utility: \n",
    "\n",
    "$$\n",
    "\\begin{align*}\n",
    "V(w,\\tau,G)&=\\max_{L\\in[0,24]}\\ln\\left(C^{\\alpha}G^{1-\\alpha}\\right)-\\nu\\frac{L^{2}}{2}\\\\&\\text{s.t.}\\\\&C=\\kappa+(1-\\tau)wL\n",
    "\\end{align*}\n",
    "$$\n",
    "\n",
    "where \n",
    "\n",
    "* $C$ is *private* consumption with weight $\\alpha\\in(0,1)$.\n",
    "* $\\kappa > 0$ is the *free private* consumption component.\n",
    "* $C = (1-\\tau)wL$ is the *costly private* consumption component.\n",
    "* $w > 0 $ is the real wage.\n",
    "* $\\tau \\in (0,1)$ is the labor-income tax rate.\n",
    "* $G > 0 $ is *government* consumption with weight $1-\\alpha$.\n",
    "* $\\nu > 0$ is the disutility of labor scaling factor"
   ]
  },
  {
   "attachments": {},
   "cell_type": "markdown",
   "metadata": {},
   "source": [
    "\n",
    "The baseline parameters are:\n",
    "\n",
    "$$\n",
    "\\begin{align*}\n",
    "\\alpha &= 0.5\\\\\n",
    "\\kappa &= 1.0\\\\\n",
    "\\nu &= \\frac{1}{2\\cdot16^2} \\\\\n",
    "w &= 1.0 \\\\ \n",
    "\\tau &= 0.30 \\\\\n",
    "\\end{align*}\n",
    "$$"
   ]
  },
  {
   "attachments": {},
   "cell_type": "markdown",
   "metadata": {},
   "source": [
    "**Question 1:** Verify that the optimal labor supply choice is $L^{\\star}(\\tilde{w}) =\\frac{-\\kappa+\\sqrt{\\kappa^{2}+4\\frac{\\alpha}{\\nu}\\tilde{w}^2}}{2\\tilde{w}}$, where $\\tilde{w} = (1-\\tau)w$, for $G\\in\\left\\{1.0 , 2.0\\right\\}$."
   ]
  },
  {
   "cell_type": "code",
   "execution_count": 2,
   "metadata": {},
   "outputs": [
    {
     "name": "stdout",
     "output_type": "stream",
     "text": [
      "Displaying the utility function:\n"
     ]
    },
    {
     "data": {
      "text/latex": [
       "$\\displaystyle U = - \\frac{L^{2} v}{2} + \\log{\\left(C^{\\alpha} G^{1 - \\alpha} \\right)}$"
      ],
      "text/plain": [
       "Eq(U, -L**2*v/2 + log(C**alpha*G**(1 - alpha)))"
      ]
     },
     "metadata": {},
     "output_type": "display_data"
    },
    {
     "name": "stdout",
     "output_type": "stream",
     "text": [
      "Substituting the budget constraint into the utility function we get:\n"
     ]
    },
    {
     "data": {
      "text/latex": [
       "$\\displaystyle U = - \\frac{L^{2} v}{2} + \\log{\\left(G^{1 - \\alpha} \\left(L \\tilde{w} + \\kappa\\right)^{\\alpha} \\right)}$"
      ],
      "text/plain": [
       "Eq(U, -L**2*v/2 + log(G**(1 - alpha)*(L*wtilde + kappa)**alpha))"
      ]
     },
     "metadata": {},
     "output_type": "display_data"
    },
    {
     "name": "stdout",
     "output_type": "stream",
     "text": [
      "Taking the first-order-condition for the utility function yields:\n"
     ]
    },
    {
     "data": {
      "text/latex": [
       "$\\displaystyle \\frac{G^{1 - \\alpha} G^{\\alpha - 1} \\alpha \\tilde{w}}{L \\tilde{w} + \\kappa} - L v = 0$"
      ],
      "text/plain": [
       "Eq(G**(1 - alpha)*G**(alpha - 1)*alpha*wtilde/(L*wtilde + kappa) - L*v, 0)"
      ]
     },
     "metadata": {},
     "output_type": "display_data"
    },
    {
     "name": "stdout",
     "output_type": "stream",
     "text": [
      "Solving for L gives us the optimal level of working hours:\n"
     ]
    },
    {
     "data": {
      "text/latex": [
       "$\\displaystyle L^{*} = - \\frac{\\kappa}{2 \\tilde{w}} + \\frac{\\sqrt{4 \\alpha \\tilde{w}^{2} + \\kappa^{2} v}}{2 \\sqrt{v} \\tilde{w}}$"
      ],
      "text/plain": [
       "Eq(L^*, -kappa/(2*wtilde) + sqrt(4*alpha*wtilde**2 + kappa**2*v)/(2*sqrt(v)*wtilde))"
      ]
     },
     "metadata": {},
     "output_type": "display_data"
    },
    {
     "name": "stdout",
     "output_type": "stream",
     "text": [
      "Which can be shown to be the same as the solution presented in the question.\n"
     ]
    }
   ],
   "source": [
    "# Defining parameters and variables\n",
    "\n",
    "c = sp.symbols('C', positive = True, real = True) # Private consumption \n",
    "alpha = sp.symbols('alpha', positive = True, real = True) # Weight for private consumption \n",
    "g = sp.symbols('G', positive = True, real = True) # Government spending\n",
    "v = sp.symbols('v', positive = True, real = True) # Disutility of labor scaling factor \n",
    "l = sp.symbols('L', positive = True, real = True) # Labor hours\n",
    "kappa = sp.symbols('kappa', positive = True, real = True) # Free private consumption\n",
    "tau = sp.symbols('tau', positive = True, real = True) # Tax rate\n",
    "w = sp.symbols('w', positive = True, real = True) # Real wage\n",
    "wtilde = sp.symbols('wtilde', positive = True, real = True)\n",
    "\n",
    "# Setting up and displaying the utility function\n",
    "\n",
    "utility = sp.log(c**alpha*g**(1-alpha))-v*l**2/2\n",
    "\n",
    "print('Displaying the utility function:')\n",
    "display(sp.Eq(sp.symbols('U'),utility))\n",
    "\n",
    "# Defining the constraint and substituting it into the utility function, after which we solve for the optimal level of L\n",
    "\n",
    "constraint = kappa+wtilde*l\n",
    "\n",
    "utilitysub = utility.subs(c, constraint) # Substituting the constraint into the utility function\n",
    "\n",
    "print('Substituting the budget constraint into the utility function we get:')\n",
    "\n",
    "display(sp.Eq(sp.symbols('U'),utilitysub)) # Displaying the new utility function\n",
    "\n",
    "print('Taking the first-order-condition for the utility function yields:')\n",
    "\n",
    "foc = sp.Eq(sp.diff(utilitysub, l),0) # Taking the derivative to find the FOC\n",
    "\n",
    "display(foc) # Displaying the FOC\n",
    "\n",
    "print('Solving for L gives us the optimal level of working hours:')\n",
    "\n",
    "sol = sp.solve(foc, l)[0] # Solving the FOC wrt. L\n",
    "\n",
    "display(sp.Eq(sp.symbols('L^*'),sol)) # Displaying the solution\n",
    "\n",
    "print('Which can be shown to be the same as the solution presented in the question.')"
   ]
  },
  {
   "attachments": {},
   "cell_type": "markdown",
   "metadata": {},
   "source": [
    "**Question 2:** Illustrate how $L^{\\star}(\\tilde{w})$ depends on $w$."
   ]
  },
  {
   "cell_type": "code",
   "execution_count": 3,
   "metadata": {},
   "outputs": [
    {
     "data": {
      "image/png": "[encoded data removed]",
      "text/plain": [
       "<Figure size 640x480 with 1 Axes>"
      ]
     },
     "metadata": {},
     "output_type": "display_data"
    }
   ],
   "source": [
    "# The optimal labor supply choice is given, and we define it as a function by\n",
    "def optimal_labor_supply(w, k, a, v, t):\n",
    "    opt = (1 - t) * w\n",
    "    L_opt = (-k + np.sqrt(k**2 + (4 * a / v) * opt**2)) / (2 * opt)\n",
    "    return L_opt\n",
    "\n",
    "# Returning utility maximizing values of labor given the parameter values. \n",
    "# Now, we set an arbitrary interval of values for w to plot together with parameter values\n",
    "\n",
    "w_values = np.linspace(0.1, 100, 100)\n",
    "\n",
    "k = 1\n",
    "a = 0.5\n",
    "v = 1/(2*16**2)\n",
    "t = 0.3\n",
    "\n",
    "# Looping through optimale values for all w values defined above\n",
    "optimal_labor = [optimal_labor_supply(w, k, a, v, t) for w in w_values]\n",
    "\n",
    "# Plotting the results\n",
    "plt.plot(w_values, optimal_labor, color=\"black\")\n",
    "plt.xlabel(r'$w$')\n",
    "plt.ylabel(r'$L^*(\\widetilde{w})$')\n",
    "plt.title(r'Optimal Labor Supply for different values of $w$')\n",
    "plt.grid(True)\n",
    "plt.show()"
   ]
  },
  {
   "attachments": {},
   "cell_type": "markdown",
   "metadata": {},
   "source": [
    "\n",
    "We now consider a government, who chooses $\\tau$ and spend all of the taxes on government consumption so:\n",
    "\n",
    "$$\n",
    "G = \\tau w L^{\\star}((1-\\tau)w)\n",
    "$$\n",
    "\n",
    "**Question 3:** Plot the implied $L$, $G$ and worker utility for a grid of $\\tau$-values.\n"
   ]
  },
  {
   "cell_type": "code",
   "execution_count": 4,
   "metadata": {},
   "outputs": [
    {
     "data": {
      "image/png": "[encoded data removed]",
      "text/plain": [
       "<Figure size 640x480 with 1 Axes>"
      ]
     },
     "metadata": {},
     "output_type": "display_data"
    }
   ],
   "source": [
    "# The optimal labor supply choice is given, and we define it as a function\n",
    "def optimal_labor_supply(w, k, a, v, t):\n",
    "    opt = (1 - t) * w\n",
    "    L_opt = (-k + np.sqrt(k**2 + (4 * a / v) * opt**2)) / (2 * opt)\n",
    "    return L_opt\n",
    "\n",
    "# Defining the corresponding worker utility\n",
    "def worker_utility(w, k, a, v, t):\n",
    "    opt = (1 - t) * w\n",
    "    L_opt = (-k + np.sqrt(k**2 + (4 * a / v) * opt**2)) / (2 * opt)\n",
    "    c = k + (1-t)*w*L_opt\n",
    "    G = t*w*L_opt*((1-t)*w)\n",
    "    utility = np.log(c**a*G**(1-a)) - (v*L_opt**2)/2\n",
    "    return utility\n",
    "\n",
    "# Setting grid of t-values\n",
    "t_values = np.linspace(0.01, 0.999, 100)\n",
    "\n",
    "# Setting baseline parameter values\n",
    "w = 1\n",
    "k = 1\n",
    "a = 0.5\n",
    "v = 1 / (2 * 16**2)\n",
    "\n",
    "# Calculate optimal labor supply, government consumption, and worker utility for each t value using list comprehensions\n",
    "optimal_labor = [optimal_labor_supply(w, k, a, v, t) for t in t_values]\n",
    "government_consumption = [t * w * optimal_labor_supply(w, k, a, v, t)  for t in t_values]\n",
    "worker_utilities = [worker_utility(w, k, a, v, t) for t in t_values]\n",
    "\n",
    "# Plotting the results\n",
    "plt.plot(t_values, optimal_labor, label='Labor Supply', color=\"black\")\n",
    "plt.plot(t_values, government_consumption, label='Tax Revenue', color=\"red\")\n",
    "plt.plot(t_values, worker_utilities, label='Worker Utility', color=\"blue\")\n",
    "plt.xlabel(r'$t$')\n",
    "plt.ylabel('Values')\n",
    "plt.title(r'Implications of Different $\\tau$ Values')\n",
    "plt.legend()\n",
    "plt.grid(True)\n",
    "plt.show()"
   ]
  },
  {
   "attachments": {},
   "cell_type": "markdown",
   "metadata": {},
   "source": [
    "**Question 4:** Find the socially optimal tax rate $\\tau^{\\star}\\in(0,1)$ maximizing worker utility. Illustrate your result."
   ]
  },
  {
   "cell_type": "code",
   "execution_count": 5,
   "metadata": {},
   "outputs": [
    {
     "data": {
      "image/png": "[encoded data removed]",
      "text/plain": [
       "<Figure size 640x480 with 1 Axes>"
      ]
     },
     "metadata": {},
     "output_type": "display_data"
    },
    {
     "name": "stdout",
     "output_type": "stream",
     "text": [
      "The socially optimal tax rate that maximizes worker utility is: 0.51\n"
     ]
    }
   ],
   "source": [
    "# The optimal labor supply choice is given, and we define it as a function\n",
    "def optimal_labor_supply(w, k, a, v, t):\n",
    "    opt = (1 - t) * w\n",
    "    L_opt = (-k + np.sqrt(k**2 + (4 * a / v) * opt**2)) / (2 * opt)\n",
    "    return L_opt\n",
    "\n",
    "# Defining the corresponding worker utility\n",
    "def worker_utility(w, k, a, v, t):\n",
    "    opt = (1 - t) * w\n",
    "    L_opt = (-k + np.sqrt(k**2 + (4 * a / v) * opt**2)) / (2 * opt)\n",
    "    c = k + (1-t)*w*L_opt\n",
    "    G = t*w*L_opt\n",
    "    utility = np.log(c**a*G**(1-a)) - (v*L_opt**2)/2\n",
    "    return utility\n",
    "\n",
    "# Objective function to maximize worker utility\n",
    "def objective(t, w, k, a, v):\n",
    "    return -worker_utility(w, k, a, v, t)\n",
    "\n",
    "# Setting baseline parameter values\n",
    "w = 1\n",
    "k = 1\n",
    "a = 0.5\n",
    "v = 1 / (2 * 16**2)\n",
    "\n",
    "# Find the socially optimal tax rate that maximizes worker utility\n",
    "res = minimize_scalar(objective, args=(w, k, a, v), bounds=(0, 1), method='bounded')\n",
    "optimal_tax_rate = res.x\n",
    "optimal_worker_utility = -res.fun\n",
    "\n",
    "# Generate a plot to illustrate the results\n",
    "t_values = np.linspace(0.002, 0.999, 100)\n",
    "worker_utilities = [worker_utility(w, k, a, v, t) for t in t_values]\n",
    "\n",
    "plt.plot(t_values, worker_utilities, label='Worker Utility', color=\"blue\")\n",
    "plt.axvline(x=optimal_tax_rate, color='red', linestyle='--')\n",
    "plt.xlabel(r'$t$')\n",
    "plt.ylabel('Utility')\n",
    "plt.title(r'Worker Utility as a Function of Tax Rate')\n",
    "plt.legend()\n",
    "plt.grid(True)\n",
    "\n",
    "# Add optimal tax rate as a legend\n",
    "plt.text(0.5, np.max(worker_utilities), f'Optimal Tax Rate: {optimal_tax_rate:.2f}', ha='center', va='bottom', color='red')\n",
    "\n",
    "plt.show()\n",
    "\n",
    "print(f'The socially optimal tax rate that maximizes worker utility is: {optimal_tax_rate:.2f}')\n"
   ]
  },
  {
   "attachments": {},
   "cell_type": "markdown",
   "metadata": {},
   "source": [
    "A more general preference formulation for the worker is:\n",
    "\n",
    "$$\n",
    "\\begin{align*}\n",
    "\\mathcal{V}(w,\\tau,G)&=\\max_{L\\in[0,24]}\\frac{\\left[ \\left( \\alpha C^{\\frac{\\sigma-1}{\\sigma}}+(1-\\alpha) G^{\\frac{\\sigma-1}{\\sigma}} \\right)^{\\frac{\\sigma}{1-\\sigma} }\\right]^{1-\\rho}-1}{1-\\rho}- \\nu\\frac{L^{1+\\varepsilon}}{1+\\varepsilon},\\,\\,\\,\\varepsilon,\\rho,\\sigma>0,\\,\\,\\,\\rho,\\sigma\\neq1\\\\&\\text{s.t.}\\\\&C=\\kappa+(1-\\tau)wL\n",
    "\\end{align*}    \n",
    "$$\n",
    "\n",
    "Optimal labor supply is now $L^{\\star}(\\tilde{w},G)$."
   ]
  },
  {
   "attachments": {},
   "cell_type": "markdown",
   "metadata": {},
   "source": [
    "Questions 5 and 6 must be answered with the general formulation, and for 2 different set of parameters:\n",
    "\n",
    "- Set 1:  $\\sigma = 1.001$, $\\rho = 1.001$ and $\\varepsilon = 1.0$.\n",
    "- Set 2:  $\\sigma = 1.5$, $\\rho = 1.5$ and $\\varepsilon = 1.0 $."
   ]
  },
  {
   "attachments": {},
   "cell_type": "markdown",
   "metadata": {},
   "source": [
    "**Question 5:** Find the $G$ that solves $G = \\tau w L^{\\star}((1-\\tau)w,G)$ using the $\\tau$ found in question 4.\n",
    "\n",
    "*Hint: First write code that solves the worker problem for given values of $G$ and $\\tau$. Then find the correct G based on this.*"
   ]
  },
  {
   "cell_type": "code",
   "execution_count": 6,
   "metadata": {},
   "outputs": [
    {
     "name": "stdout",
     "output_type": "stream",
     "text": [
      "Optimal G in scenario 1 is: 7.715875304059423\n",
      "Optimal G in scenario 2 is: 6.578766083389268\n"
     ]
    }
   ],
   "source": [
    "\n",
    "# Defining labor and utility functions\n",
    "def find_optimal_labor(w, t, G, a, sigma, rho, v, epsilon, k):\n",
    "    def utility_function(L, w, t, G, a, sigma, rho, v, epsilon, k):\n",
    "        C = k + (1 - t) * w * L\n",
    "        utility = ((a * C**((sigma - 1) / sigma) + (1 - a) * G**((sigma - 1) / sigma))**(sigma / (sigma - 1)))**(1 - rho) / (1 - rho) - v * (L**(1 + epsilon)) / (1 + epsilon)\n",
    "        return -utility\n",
    "\n",
    "    bounds = [(0, 24)]  # Labor supply bounds [0, 24]\n",
    "    result = optimize.minimize(utility_function, x0=12, args=(w, t, G, a, sigma, rho, v, epsilon, k), bounds=bounds, method='SLSQP')\n",
    "    optimal_labor = result.x[0]\n",
    "    utility = result.fun\n",
    "    return optimal_labor, utility\n",
    "\n",
    "# Set global parameters that stays constant\n",
    "t = optimal_tax_rate\n",
    "epsilon = 1.0\n",
    "G = 1 \n",
    "\n",
    "# Setting scenario 1 parameters\n",
    "sigma_1 = 1.001\n",
    "rho_1 = 1.001\n",
    "\n",
    "# Calculating optimal labor with parameter scenario 1\n",
    "L_1, U_1 = find_optimal_labor(w, t, G, a, sigma_1, rho_1, v, epsilon, k)\n",
    "\n",
    "# And the corresponding optimal G\n",
    "G_1 = t * w * L_1\n",
    "\n",
    "# Setting scneario 2 parameters\n",
    "sigma_2 = 1.5\n",
    "rho_2 = 1.5\n",
    "\n",
    "# Calculating optimal labor with parameter scenario 2\n",
    "L_2, U_2 = find_optimal_labor(w, t, G, a, sigma_2, rho_2, v, epsilon, k)\n",
    "\n",
    "# And the corresponding optimal G\n",
    "G_2 = t * w * L_2\n",
    "\n",
    "print(f'Optimal G in scenario 1 is: {G_1}')\n",
    "print(f'Optimal G in scenario 2 is: {G_2}')"
   ]
  },
  {
   "attachments": {},
   "cell_type": "markdown",
   "metadata": {},
   "source": [
    "**Question 6:** Find the socially optimal tax rate, $\\tau^{\\star}$, maximizing worker utility, while keeping $G = \\tau w L^{\\star}((1-\\tau)w,G)$."
   ]
  },
  {
   "cell_type": "code",
   "execution_count": 7,
   "metadata": {},
   "outputs": [
    {
     "data": {
      "text/plain": [
       "(0.5145311213913639, 0.5145311213913639)"
      ]
     },
     "execution_count": 7,
     "metadata": {},
     "output_type": "execute_result"
    }
   ],
   "source": [
    "# Since we have now calculated the optimal G and know L* and w we can isolate tau in the above to read: tau = G/(w*L^*) and thus\n",
    "\n",
    "tau_1 = G_1/(w*L_1)\n",
    "tau_2 = G_2/(w*L_2)\n",
    "\n",
    "# Printing the optimal tax rate in either scenario\n",
    "tau_1, tau_2"
   ]
  },
  {
   "attachments": {},
   "cell_type": "markdown",
   "metadata": {},
   "source": [
    "Thus the socially optimal tax rate maximizing worker utility is $\\tau^* = 0.5145$ when $\\sigma = \\rho$, which is also why the optimal tax rate is the same in the output above for scenario 1 and 2. "
   ]
  },
  {
   "attachments": {},
   "cell_type": "markdown",
   "metadata": {},
   "source": [
    "## 2. <a id='toc2_'></a>[Problem 2: Labor adjustment costs](#toc0_)"
   ]
  },
  {
   "attachments": {},
   "cell_type": "markdown",
   "metadata": {},
   "source": [
    "You own a hair salon. You employ hairdressers, $\\ell_t$, to produce haircuts, $y_t = \\ell_t$.\n",
    "\n",
    "The wage for each haridresser is $w$.\n",
    "\n",
    "The demand for haircuts implies that the price of haircuts you can charge is $p_t = \\kappa_t y_t^{-\\eta}$, where $\\kappa_t$ is a demand-shock and $\\eta \\in (0,1)$ measures the elasticity of demand.\n",
    "\n",
    "Profits are:\n",
    "\n",
    "$$\n",
    "\\Pi_t = p_t y_t - w \\ell_t = \\kappa_t \\ell_t^{1-\\eta} - w \\ell_t\n",
    "$$"
   ]
  },
  {
   "attachments": {},
   "cell_type": "markdown",
   "metadata": {},
   "source": [
    "Baseline parameters are:\n",
    "- $\\eta = 0.5$\n",
    "- $w = 1.0$"
   ]
  },
  {
   "attachments": {},
   "cell_type": "markdown",
   "metadata": {},
   "source": [
    "**Question 1:** Verify numerically that $\\ell_{t}=\\left(\\frac{(1-\\eta)\\kappa_{t}}{w}\\right)^{\\frac{1}{\\eta}}$ maximises profits, for $\\kappa\\in\\left\\{1.0 , 2.0\\right\\}$."
   ]
  },
  {
   "cell_type": "code",
   "execution_count": 8,
   "metadata": {},
   "outputs": [
    {
     "data": {
      "image/png": "[encoded data removed]",
      "text/plain": [
       "<Figure size 640x480 with 1 Axes>"
      ]
     },
     "metadata": {},
     "output_type": "display_data"
    }
   ],
   "source": [
    "# Profit function\n",
    "def profit_function(k, l, n, w):\n",
    "    return k * l**(1 - n) - w * l\n",
    "\n",
    "# Baseline parameters\n",
    "k_values = [1, 2]\n",
    "n = 0.5\n",
    "w = 1\n",
    "\n",
    "# Range of l values\n",
    "l_values = np.linspace(0, 5, 100)\n",
    "\n",
    "# Plotting the profit function for each kappa value\n",
    "for k in k_values:\n",
    "    profits = profit_function(k, l_values, n, w)\n",
    "    plt.plot(l_values, profits, label=f'kappa = {k}')\n",
    "\n",
    "plt.xlabel('l')\n",
    "plt.ylabel('Profit')\n",
    "plt.title('Profit Function for Different kappa Values')\n",
    "plt.legend()\n",
    "plt.grid(True)\n",
    "plt.show()"
   ]
  },
  {
   "cell_type": "code",
   "execution_count": 9,
   "metadata": {},
   "outputs": [
    {
     "name": "stdout",
     "output_type": "stream",
     "text": [
      "For kappa = 1, l = 0.2500, Profit = 0.2500\n",
      "For kappa = 2, l = 1.0000, Profit = 1.0000\n"
     ]
    }
   ],
   "source": [
    "for kappa in k_values:\n",
    "    # Calculate the value of l\n",
    "    l = ((1 - n) * kappa / w)**(1 / n)\n",
    "    \n",
    "    # Calculate the profit\n",
    "    profit = profit_function(kappa, l, n, w)\n",
    "    \n",
    "    print(f\"For kappa = {kappa}, l = {l:.4f}, Profit = {profit:.4f}\")"
   ]
  },
  {
   "attachments": {},
   "cell_type": "markdown",
   "metadata": {},
   "source": [
    "We now consider a *dynamic* version of the model.\n",
    "\n",
    "* The demand-shock is a so-called AR(1) in logs, \n",
    "\n",
    "$$\n",
    "\\log \\kappa_{t} = \\rho \\log \\kappa_{t-1} + \\epsilon_{t},\\,\\,\\, \\epsilon_{t+1} \\sim \\mathcal{N}(-0.5\\sigma_{\\epsilon}^2,\\sigma_{\\epsilon})\n",
    "$$\n",
    "\n",
    "* Any hiring or firing implies a fixed adjustment cost, $\\iota > 0 $.\n",
    "* Future profits are discounted with a monthly factor of $R \\in (0,1)$.\n",
    "\n",
    "The initial demand shock is $\\kappa_{-1} = 1$ and the planning horizon is 10 years, i.e. 120 months so $t \\in \\{0,1,2,\\dots,119\\}$. Initially you don't have any employees, $\\ell_{-1}=0$"
   ]
  },
  {
   "attachments": {},
   "cell_type": "markdown",
   "metadata": {},
   "source": [
    "\n",
    "The *ex post* value of the salon is *conditional* on the shock series is:\n",
    "\n",
    "$$\n",
    "h(\\epsilon_0,\\epsilon_1,\\dots,\\epsilon_{119}) = \\left[\\sum_{t=0}^{119}R^{-t}\\left[\\kappa_{t}\\ell_{t}^{1-\\eta}-w\\ell_{t}-\\boldsymbol{1}_{\\ell_{t}\\neq\\ell_{t-1}}\\iota\\right]\\right]\n",
    "$$\n",
    "\n",
    "The *ex ante* expected value of the salon can be approximated by\n",
    "\n",
    "$$\n",
    "H = \\mathbb{E}[h(\\epsilon_0,\\epsilon_1,\\dots,\\epsilon_{119})] \\approx \\frac{1}{K}\\sum_{k=0}^{K} h(\\epsilon_0^k,\\epsilon_1^k,\\dots,\\epsilon_{119}^k)\n",
    "$$\n",
    "\n",
    "where each $k\\in\\{0,1,\\dots,K-1\\}$ is a random shock series. Maximizing profitability means maximizing $H$.\n"
   ]
  },
  {
   "attachments": {},
   "cell_type": "markdown",
   "metadata": {},
   "source": [
    "Baseline parameters are: \n",
    "\n",
    "- $\\rho = 0.90$\n",
    "- $\\iota = 0.01$\n",
    "- $\\sigma_{\\epsilon} = 0.10$\n",
    "- $R = \\left(1+0.01\\right)^{1/12}$"
   ]
  },
  {
   "attachments": {},
   "cell_type": "markdown",
   "metadata": {},
   "source": [
    "**Question 2:** Calculate $H$ if the policy  $\\ell_{t}=\\left(\\frac{(1-\\eta)\\kappa_{t}}{w}\\right)^{\\frac{1}{\\eta}}$ from question 1 is followed. Choose $K$ so the approximation is good enough to not affect your results substantially."
   ]
  },
  {
   "cell_type": "code",
   "execution_count": 10,
   "metadata": {},
   "outputs": [
    {
     "name": "stdout",
     "output_type": "stream",
     "text": [
      "The ex ante value for the salon is: 27.36069141709229\n"
     ]
    }
   ],
   "source": [
    "# Defining parameters \n",
    "\n",
    "rho = 0.9 # Convergence coefficient for kappa\n",
    "i = 0.01 # Fixed labor adjustment costs\n",
    "eta = 0.5 \n",
    "w = 1\n",
    "sigma = 0.1 # Standard deviation\n",
    "R = (1+0.01)**(1/12) # Monthly interest rate\n",
    "K = 1000 # Number of times to run the simulation. Set high such that the results doesn't fluctuate too much\n",
    "\n",
    "# Running the dynamic version of the model\n",
    "K_h = [] # Creating an empty list for the ex post value of the salon\n",
    "\n",
    "# Creating a loop that runs the model K times\n",
    "for j in range(K):\n",
    "    \n",
    "    kappa = [1] # Defining initial vlaue for kappa\n",
    "\n",
    "    for t in range(120): # Running the AR simulation for kappa\n",
    "        kappa_t = rho*np.log(kappa[t-1])+np.random.normal(loc=-0.5*sigma**2, scale=sigma)\n",
    "        kappa.append(np.exp(kappa_t))\n",
    "\n",
    "    ell = [0] # Defining initial value for ell\n",
    "\n",
    "    for t in range(1,120): # Calculating optimal value of ell for all periods\n",
    "        ell.append(((1-eta)*kappa[t]/w)**(1/eta))\n",
    "\n",
    "    h_t = [] # Creating an empty list for the ex post value of the salon in each period t\n",
    "\n",
    "    for t in range (120): # Calculating the ex post value of the salon in each period t\n",
    "        if ell[t] != ell[t-1]:\n",
    "            h_t.append(R**(-t)*(kappa[t]*ell[t]**(1-eta)-w*ell[t]-i))\n",
    "        else: \n",
    "            h_t.append(R**(-t)*(kappa[t]*ell[t]**(1-eta)-w*ell[t]))\n",
    "\n",
    "    h=sum(h_t) # Finding the ex post value as the sum of all individual contributions\n",
    "\n",
    "    K_h.append(h) # Summing the ex post value for all simulations K\n",
    "\n",
    "H = 1/K*sum(K_h) # Finding the ex ante value for the salon\n",
    "\n",
    "# Printing the results\n",
    "print('The ex ante value for the salon is:', H)"
   ]
  },
  {
   "attachments": {},
   "cell_type": "markdown",
   "metadata": {},
   "source": [
    "Next, we consider policies on the form:\n",
    "\n",
    "$$\n",
    "\n",
    "\\ell_{t}=\\begin{cases}\n",
    "\\ell_t^{\\ast}  & \\text{if }\\left|\\ell_{t-1}-\\ell_t^{\\ast} \\right|>\\Delta\\\\\n",
    "\\ell_{t-1} & \\text{else }\n",
    "\\end{cases}\n",
    "\\\\\n",
    "\\text{where}\\,\\,\\ell_t^{\\ast} = \\left(\\frac{(1-\\eta)\\kappa_{t}}{w}\\right)^{\\frac{1}{\\eta}} \\\\\n",
    "\n",
    "$$\n",
    "With $\\Delta \\geq 0$ and $\\Delta = 0$ being the previous policy.\n"
   ]
  },
  {
   "attachments": {},
   "cell_type": "markdown",
   "metadata": {},
   "source": [
    "\n",
    "**Question 3:** Calculate $H$ if the policy above was followed with $\\Delta = 0.05$. Does it improve profitability?"
   ]
  },
  {
   "cell_type": "code",
   "execution_count": 11,
   "metadata": {},
   "outputs": [
    {
     "name": "stdout",
     "output_type": "stream",
     "text": [
      "The ex ante value for the salon with the new policy is: 27.768636085833997\n"
     ]
    }
   ],
   "source": [
    "# Defining parameters \n",
    "\n",
    "rho = 0.9 # Convergence coefficient for kappa\n",
    "i = 0.01 # Fixed labor adjustment costs\n",
    "sigma = 0.1 # Standard deviation\n",
    "R = (1+0.01)**(1/12) # Monthly interest rate\n",
    "Delta = 0.05 # Delta\n",
    "K = 1000 # Number of times to run the simulation. Set high such that the results doesn't fluctuate too much\n",
    "\n",
    "# Running the dynamic version of the model with the new policy\n",
    "\n",
    "K_h = [] # Creating an empty list for the ex post value of the salon\n",
    "\n",
    "# Creating a loop that runs the model K times\n",
    "\n",
    "for j in range(K):\n",
    "    \n",
    "    kappa = [1] # Defining initial vlaue for kappa\n",
    "\n",
    "    for t in range(120): # Running the AR simulation for kappa\n",
    "        kappa_t = rho*np.log(kappa[t-1])+np.random.normal(loc=-0.5*sigma**2, scale=sigma)\n",
    "        kappa.append(np.exp(kappa_t))\n",
    "\n",
    "    ell = [0] # Defining initial value for ell\n",
    "\n",
    "    for t in range(1,120): # Applying the policy to the determination of ell\n",
    "        if abs(ell[t - 1]-((1-eta)*kappa[t]/w)**(1/eta)) > Delta:\n",
    "            ell.append(((1-eta)*kappa[t]/w)**(1/eta))\n",
    "        else:\n",
    "            ell.append(ell[t-1])\n",
    "\n",
    "    h_t = [] # Creating an empty list for the ex post value of the salon in each period t\n",
    "\n",
    "    for t in range (120): # Calculating the ex post value of the salon in each period t\n",
    "        if ell[t] != ell[t-1]:\n",
    "            h_t.append(R**(-t)*(kappa[t]*ell[t]**(1-eta)-w*ell[t]-i))\n",
    "        else: \n",
    "            h_t.append(R**(-t)*(kappa[t]*ell[t]**(1-eta)-w*ell[t]))\n",
    "\n",
    "    h=sum(h_t) # Finding the ex post value as the sum of all individual contributions\n",
    "\n",
    "    K_h.append(h) # Summing the ex post value for all simulations K\n",
    "\n",
    "H = 1/K*sum(K_h) # Finding the ex ante value for the salon\n",
    "\n",
    "# Printing the results\n",
    "\n",
    "print('The ex ante value for the salon with the new policy is:', H)\n"
   ]
  },
  {
   "attachments": {},
   "cell_type": "markdown",
   "metadata": {},
   "source": [
    "**Question 4:** Find the optimal $\\Delta$ maximizing $H$. Illustrate your result."
   ]
  },
  {
   "cell_type": "code",
   "execution_count": 12,
   "metadata": {},
   "outputs": [
    {
     "name": "stdout",
     "output_type": "stream",
     "text": [
      "The max value for H is: 28.167134117793996\n",
      "With an optimal Delta value of: 0.061224489795918366\n"
     ]
    },
    {
     "data": {
      "image/png": "[encoded data removed]",
      "text/plain": [
       "<Figure size 640x480 with 1 Axes>"
      ]
     },
     "metadata": {},
     "output_type": "display_data"
    }
   ],
   "source": [
    "# Defining parameters\n",
    "\n",
    "rho = 0.9\n",
    "i = 0.01\n",
    "sigma = 0.1\n",
    "R = (1 + 0.01) ** (1 / 12)\n",
    "K = 1000\n",
    "\n",
    "# Define a list of Delta values\n",
    "delta_values = np.linspace(0,1,50)\n",
    "\n",
    "# Create an empty list to store H values\n",
    "H_values = []\n",
    "\n",
    "# Running the same simulation as in question 3, now just for different delta values\n",
    "for delta in delta_values:\n",
    "    K_h = []\n",
    "\n",
    "    for j in range(K):\n",
    "        kappa = [1]\n",
    "\n",
    "        for t in range(120):\n",
    "            kappa_t = rho * np.log(kappa[t - 1]) + np.random.normal(loc=-0.5 * sigma**2, scale=sigma)\n",
    "            kappa.append(np.exp(kappa_t))\n",
    "\n",
    "        ell = [0]\n",
    "        eta = 0.5 \n",
    "        w = 1  \n",
    "\n",
    "        for t in range(1,120):\n",
    "            if abs(ell[t - 1]-((1-eta)*kappa[t]/w)**(1/eta)) > delta:\n",
    "                ell.append(((1 - eta) * kappa[t] / w) ** (1 / eta))\n",
    "            else:\n",
    "                ell.append(ell[t - 1])\n",
    "\n",
    "        h_t = []\n",
    "\n",
    "        for t in range(120):\n",
    "            if ell[t] != ell[t - 1]:\n",
    "                h_t.append(R ** (-t) * (kappa[t] * ell[t] ** (1 - eta) - w * ell[t] - i))\n",
    "            else:\n",
    "                h_t.append(R ** (-t) * (kappa[t] * ell[t] ** (1 - eta) - w * ell[t]))\n",
    "\n",
    "        h = sum(h_t)\n",
    "        K_h.append(h)\n",
    "\n",
    "    H = 1 / K * sum(K_h)\n",
    "\n",
    "    # Append H value to the list\n",
    "    H_values.append(H)\n",
    "\n",
    "\n",
    "# Creating a dataframe with Delta and H values\n",
    "df = pd.DataFrame(columns=['Delta', 'H'])\n",
    "\n",
    "df['Delta']=delta_values\n",
    "df['H']=H_values\n",
    "\n",
    "# Finding the maximal value of H, and the corresponding delta value\n",
    "\n",
    "max_H = max(df['H'])\n",
    "max_H_index = df['H'].idxmax()\n",
    "max_delta = df.loc[max_H_index, 'Delta']\n",
    "print('The max value for H is:',max_H)\n",
    "print('With an optimal Delta value of:',max_delta)\n",
    "\n",
    "# Plotting H for different values of Delta\n",
    "\n",
    "plt.plot(delta_values, H_values, color=\"black\")\n",
    "plt.ylabel('Ex Ante Expected Value of Salon') # Setting label for y-axis\n",
    "plt.xlabel('Delta') # Setting label for x-axis\n",
    "plt.title('H for different values of Delta') # Setting title\n",
    "plt.axvline(x=max_delta, color='red', linestyle='dashed', label='Optimal Delta') # Plotting a vertical line for the optimal delta value\n",
    "plt.legend() # Inserting legend\n",
    "plt.show() # Plotting the plot"
   ]
  },
  {
   "attachments": {},
   "cell_type": "markdown",
   "metadata": {},
   "source": [
    "\n",
    "**Question 5:** Suggest an alternative policy you believe might improve profitability. Implement and test your policy.\n",
    "\n"
   ]
  },
  {
   "attachments": {},
   "cell_type": "markdown",
   "metadata": {},
   "source": [
    "We saw in question 4 that the optimal value of $\\Delta$ was above 0, which might at first seem counterintuitive, since $\\ell$ diverges from $\\ell^*$. However $H$ can be higher with $\\Delta>0$, since $\\ell_t=\\ell_{t-1}$ removes the fixed costs. With that in mind, we have tried to come up with a policy that takes this to the extremes by making sure that the fixed costs will be removed in almost all periods. The strategy can be formulated as:\n",
    "\n",
    "\n",
    "$$\n",
    "\\ell_{t}=\\begin{cases}\n",
    "\\ell_{t=1}^{\\ast}  & \\text{for} \\ 0\\leq t \\leq 29\\\\\n",
    "\\ell_{t=30}^{\\ast}  & \\text{for} \\ 30\\leq t \\leq 59\\\\\n",
    "\\ell_{t=60}^{\\ast}  & \\text{for} \\ 60\\leq t \\leq 89\\\\\n",
    "\\ell_{t=90}^{\\ast}  & \\text{for} \\ 90\\leq t \\leq 119\\\\\n",
    "\\end{cases}\n",
    "\\\\\n",
    "\\text{where}\\,\\,\\ell_t^{\\ast} = \\left(\\frac{(1-\\eta)\\kappa_{t}}{w}\\right)^{\\frac{1}{\\eta}} \\\\\n",
    "\n",
    "$$\n",
    "\n",
    "Such that the $\\ell_t$ is fixed for 30 periods at a time."
   ]
  },
  {
   "cell_type": "code",
   "execution_count": 13,
   "metadata": {},
   "outputs": [
    {
     "name": "stdout",
     "output_type": "stream",
     "text": [
      "The ex ante value of the salon using this policy will be: 26.53373626872806\n",
      "The policy hence does not improve profitability by removing the fixed cost, which was what improved profitability with the last policy\n"
     ]
    }
   ],
   "source": [
    "# Defining parameters \n",
    "\n",
    "rho = 0.9 \n",
    "i = 0.01\n",
    "sigma = 0.1\n",
    "R = (1+0.01)**(1/12)\n",
    "K = 1000\n",
    "\n",
    "# Running the model as before, the only addition being the new policy\n",
    "\n",
    "K_h = []\n",
    "\n",
    "for j in range(K):\n",
    "    \n",
    "    kappa = [1]\n",
    "\n",
    "    for t in range(120):\n",
    "        kappa_t = rho*np.log(kappa[t-1])+np.random.normal(loc=-0.5*sigma**2, scale=sigma)\n",
    "        kappa.append(np.exp(kappa_t))\n",
    "\n",
    "    ell = [0]\n",
    "\n",
    "    # Implementing the policy\n",
    "\n",
    "    for t in range(1,30):\n",
    "        ell.append(((1-eta)*kappa[1]/w)**(1/eta))\n",
    "    \n",
    "    for t in range(30,60):\n",
    "        ell.append(((1-eta)*kappa[30]/w)**(1/eta))\n",
    "    \n",
    "    for t in range(60,90):\n",
    "        ell.append(((1-eta)*kappa[60]/w)**(1/eta))\n",
    "    \n",
    "    for t in range(90,120):\n",
    "        ell.append(((1-eta)*kappa[30]/w)**(1/eta))\n",
    "\n",
    "    h_t = []\n",
    "\n",
    "    for t in range (120):\n",
    "        h_t.append(R**(-t)*(kappa[t]*ell[t]**(1-eta)-w*ell[t]))\n",
    "\n",
    "    h=sum(h_t)\n",
    "\n",
    "    K_h.append(h)\n",
    "\n",
    "H = 1/K*sum(K_h)\n",
    "\n",
    "# Printing the results\n",
    "\n",
    "print('The ex ante value of the salon using this policy will be:', H)\n",
    "print('The policy hence does not improve profitability by removing the fixed cost, which was what improved profitability with the last policy')\n"
   ]
  },
  {
   "attachments": {},
   "cell_type": "markdown",
   "metadata": {},
   "source": [
    "## 3. <a id='toc3_'></a>[Problem 3: Global optimizer with refined multi-start](#toc0_)"
   ]
  },
  {
   "attachments": {},
   "cell_type": "markdown",
   "metadata": {},
   "source": [
    "We consider the Griewank function:\n",
    "\n",
    "$$ f(\\boldsymbol{x}) = \\sum^n_{i=1} \\frac{x^2_i}{4000}-\\prod^n_{i=1}\\cos\\left(\\frac{x_i}{\\sqrt{i}}\\right)+1$$\n",
    "\n",
    "The **global minimum** of this function is $f(0,0) = 0$ (remember: $\\cos(0)=1$).<br>\n",
    "But the function also have a lot of **local minima**."
   ]
  },
  {
   "cell_type": "code",
   "execution_count": 14,
   "metadata": {},
   "outputs": [],
   "source": [
    "def griewank(x):\n",
    "    return griewank_(x[0],x[1])\n",
    "    \n",
    "def griewank_(x1,x2):\n",
    "    A = x1**2/4000 + x2**2/4000\n",
    "    B = np.cos(x1/np.sqrt(1))*np.cos(x2/np.sqrt(2))\n",
    "    return A-B+1"
   ]
  },
  {
   "attachments": {},
   "cell_type": "markdown",
   "metadata": {},
   "source": [
    "A **refined global optimizer with multi-start** is:\n",
    "\n",
    "1. Choose *bounds* for $\\mathbf{x}$ and *tolerance* $\\tau > 0$.\n",
    "2. Choose number of *warm-up iterations*, $\\underline{K} > 0$ and *maximum number of iterations*, $K > \\underline{K}$.\n",
    "3. In each iteration for $k \\in \\{0,1,\\dots,K-1\\}$:\n",
    "\n",
    "    A. Draw random $\\mathbf{x}^k$ uniformly within chosen bounds.\n",
    "\n",
    "    B. If $k < \\underline{K}$ go to step E.\n",
    "\n",
    "    C. Calculate $\\chi^k = 0.50\\cdot\\frac{2}{1+\\exp((k-\\underline{K})/100)}$  \n",
    "\n",
    "    D. Set $\\mathbf{x}^{k0} = \\chi^k \\mathbf{x}^k + (1-\\chi^k)\\mathbf{x}^{\\ast} $\n",
    "\n",
    "    E. Run optimizer with $\\mathbf{x}^{k0}$ as initial guess and $\\mathbf{x}^{k\\ast}$ as result.\n",
    "\n",
    "    F. Set $\\mathbf{x}^{\\ast} = \\mathbf{x}^{k\\ast}$ if $k = 0$ or $f(\\mathbf{x}^{k\\ast}) < f(\\mathbf{x}^{\\ast})$\n",
    "\n",
    "    G. If $f(\\mathbf{x}^{\\ast}) < \\tau$ go to step 4.\n",
    "\n",
    "4. Return the result $\\mathbf{x}^{\\ast}$."
   ]
  },
  {
   "attachments": {},
   "cell_type": "markdown",
   "metadata": {},
   "source": [
    "As settings we choose:\n",
    "\n",
    "* $x_1,x_2 \\in  [-600,600]$\n",
    "* $\\tau = 10^{-8}$\n",
    "* $\\underline{K}=10$\n",
    "* $K=1000$\n",
    "\n",
    "The optimizer in Step 3.E is `BFGS` with a tolerance of $\\tau$."
   ]
  },
  {
   "attachments": {},
   "cell_type": "markdown",
   "metadata": {},
   "source": [
    "**Question 1:** Implement the refined global optimizer with multi-start. Illustrate how the effective initial guesses $\\mathbf{x}^{k0}$ vary with the iteration counter $k$."
   ]
  },
  {
   "cell_type": "code",
   "execution_count": 15,
   "metadata": {},
   "outputs": [
    {
     "name": "stdout",
     "output_type": "stream",
     "text": [
      "Optimal solution:\n",
      "x1 = -1.9420949683501166e-09\n",
      "x2 = -8.215203629866583e-09\n",
      "Minimum value = 0.0\n"
     ]
    },
    {
     "data": {
      "image/png": "[encoded data removed]",
      "text/plain": [
       "<Figure size 800x600 with 1 Axes>"
      ]
     },
     "metadata": {},
     "output_type": "display_data"
    }
   ],
   "source": [
    "import numpy as np\n",
    "from scipy.optimize import minimize\n",
    "import matplotlib.pyplot as plt\n",
    "\n",
    "def griewank(x):\n",
    "    return griewank_(x[0], x[1])\n",
    "\n",
    "def griewank_(x1, x2):\n",
    "    A = x1**2/4000 + x2**2/4000\n",
    "    B = np.cos(x1/np.sqrt(1)) * np.cos(x2/np.sqrt(2))\n",
    "    return A - B + 1\n",
    "\n",
    "def refined_global_optimizer(bounds, tolerance, warmup_iterations, max_iterations):\n",
    "    best_x = None\n",
    "    best_value = None\n",
    "    initial_guesses = []  # Store initial guesses\n",
    "    \n",
    "    for k in range(max_iterations):\n",
    "        x_k = np.random.uniform(bounds[0], bounds[1])  # Step 3.A\n",
    "        \n",
    "        if k >= warmup_iterations:\n",
    "            chi_k = 0.50 * (2 / (1 + np.exp((k - warmup_iterations) / 100)))  # Step 3.C\n",
    "            x_k0 = chi_k * x_k + (1 - chi_k) * best_x  # Step 3.D\n",
    "            initial_guesses.append(x_k0)  # Store initial guess\n",
    "            x0 = x_k0\n",
    "        else:\n",
    "            x0 = x_k\n",
    "        \n",
    "        result = minimize(griewank, x0, method='BFGS', tol=tolerance)  # Step 3.E\n",
    "        \n",
    "        if best_value is None or result.fun < best_value:  # Step 3.F\n",
    "            best_x = result.x\n",
    "            best_value = result.fun\n",
    "        \n",
    "        if best_value < tolerance:  # Step 3.G\n",
    "            break\n",
    "    \n",
    "    return best_x, initial_guesses\n",
    "\n",
    "# Settings\n",
    "bounds = [np.array([-600, -600]), np.array([600, 600])]\n",
    "tolerance = 1e-8\n",
    "warmup_iterations = 10\n",
    "max_iterations = 1000\n",
    "\n",
    "# Perform optimization\n",
    "result, initial_guesses = refined_global_optimizer(bounds, tolerance, warmup_iterations, max_iterations)\n",
    "\n",
    "print(\"Optimal solution:\")\n",
    "print(\"x1 =\", result[0])\n",
    "print(\"x2 =\", result[1])\n",
    "print(\"Minimum value =\", griewank(result))\n",
    "\n",
    "# Plotting initial guesses\n",
    "plt.figure(figsize=(8, 6))\n",
    "plt.scatter([guess[0] for guess in initial_guesses], [guess[1] for guess in initial_guesses], c='r', marker='o')\n",
    "plt.scatter(result[0], result[1], c='b', marker='x', label='Optimal Solution')\n",
    "plt.xlabel(\"x1\")\n",
    "plt.ylabel(\"x2\")\n",
    "plt.title(\"Effective Initial Guesses\")\n",
    "plt.legend()\n",
    "plt.grid(True)\n",
    "plt.show()\n"
   ]
  },
  {
   "attachments": {},
   "cell_type": "markdown",
   "metadata": {},
   "source": [
    "**Question 2:** Is it a better idea to set $\\underline{K} = 100$? Is the convergence faster?"
   ]
  },
  {
   "cell_type": "code",
   "execution_count": 16,
   "metadata": {},
   "outputs": [
    {
     "name": "stdout",
     "output_type": "stream",
     "text": [
      "Optimal solution:\n",
      "x1 = -6.3001483367997065e-09\n",
      "x2 = 1.9959865358598355e-09\n",
      "Minimum value = 0.0\n"
     ]
    },
    {
     "data": {
      "image/png": "[encoded data removed]",
      "text/plain": [
       "<Figure size 800x600 with 1 Axes>"
      ]
     },
     "metadata": {},
     "output_type": "display_data"
    }
   ],
   "source": [
    "import numpy as np\n",
    "from scipy.optimize import minimize\n",
    "import matplotlib.pyplot as plt\n",
    "\n",
    "def griewank(x):\n",
    "    return griewank_(x[0], x[1])\n",
    "\n",
    "def griewank_(x1, x2):\n",
    "    A = x1**2/4000 + x2**2/4000\n",
    "    B = np.cos(x1/np.sqrt(1)) * np.cos(x2/np.sqrt(2))\n",
    "    return A - B + 1\n",
    "\n",
    "def refined_global_optimizer(bounds, tolerance, warmup_iterations, max_iterations):\n",
    "    best_x = None\n",
    "    best_value = None\n",
    "    initial_guesses = []  # Store initial guesses\n",
    "    \n",
    "    for k in range(max_iterations):\n",
    "        x_k = np.random.uniform(bounds[0], bounds[1])  # Step 3.A\n",
    "        \n",
    "        if k >= warmup_iterations:\n",
    "            chi_k = 0.50 * (2 / (1 + np.exp((k - warmup_iterations) / 100)))  # Step 3.C\n",
    "            x_k0 = chi_k * x_k + (1 - chi_k) * best_x  # Step 3.D\n",
    "            initial_guesses.append(x_k0)  # Store initial guess\n",
    "            x0 = x_k0\n",
    "        else:\n",
    "            x0 = x_k\n",
    "        \n",
    "        result = minimize(griewank, x0, method='BFGS', tol=tolerance)  # Step 3.E\n",
    "        \n",
    "        if best_value is None or result.fun < best_value:  # Step 3.F\n",
    "            best_x = result.x\n",
    "            best_value = result.fun\n",
    "        \n",
    "        if best_value < tolerance:  # Step 3.G\n",
    "            break\n",
    "    \n",
    "    return best_x, initial_guesses\n",
    "\n",
    "# Settings\n",
    "bounds = [np.array([-600, -600]), np.array([600, 600])]\n",
    "tolerance = 1e-8\n",
    "warmup_iterations = 100  # Updated value\n",
    "max_iterations = 1000\n",
    "\n",
    "# Perform optimization\n",
    "result, initial_guesses = refined_global_optimizer(bounds, tolerance, warmup_iterations, max_iterations)\n",
    "\n",
    "print(\"Optimal solution:\")\n",
    "print(\"x1 =\", result[0])\n",
    "print(\"x2 =\", result[1])\n",
    "print(\"Minimum value =\", griewank(result))\n",
    "\n",
    "# Plotting initial guesses\n",
    "plt.figure(figsize=(8, 6))\n",
    "plt.scatter([guess[0] for guess in initial_guesses], [guess[1] for guess in initial_guesses], c='r', marker='o')\n",
    "plt.scatter(result[0], result[1], c='b', marker='x', label='Optimal Solution')\n",
    "plt.xlabel(\"x1\")\n",
    "plt.ylabel(\"x2\")\n",
    "plt.title(\"Effective Initial Guesses\")\n",
    "plt.legend()\n",
    "plt.grid(True)\n",
    "plt.show()"
   ]
  },
  {
   "attachments": {},
   "cell_type": "markdown",
   "metadata": {},
   "source": [
    "To see if setting $\\underline{K} = 100$ impacts the convergence speed positively we track the number of each iteration needed to find the optimal solution and store these. We do this in the following code"
   ]
  },
  {
   "cell_type": "code",
   "execution_count": 17,
   "metadata": {},
   "outputs": [
    {
     "name": "stdout",
     "output_type": "stream",
     "text": [
      "Optimal solution for K = 10:\n",
      "x1 = -5.207411412302032e-09\n",
      "x2 = -2.7754274462636597e-09\n",
      "Minimum value = 0.0\n",
      "Number of iterations for K = 10: 350\n",
      "Optimal solution for K = 100:\n",
      "x1 = -9.979655918659648e-09\n",
      "x2 = -2.4284505710443948e-08\n",
      "Minimum value = 1.1102230246251565e-16\n",
      "Number of iterations for K = 100: 475\n"
     ]
    }
   ],
   "source": [
    "import numpy as np\n",
    "from scipy.optimize import minimize\n",
    "import matplotlib.pyplot as plt\n",
    "\n",
    "def griewank(x):\n",
    "    return griewank_(x[0], x[1])\n",
    "\n",
    "def griewank_(x1, x2):\n",
    "    A = x1**2/4000 + x2**2/4000\n",
    "    B = np.cos(x1/np.sqrt(1)) * np.cos(x2/np.sqrt(2))\n",
    "    return A - B + 1\n",
    "\n",
    "def refined_global_optimizer(bounds, tolerance, warmup_iterations, max_iterations):\n",
    "    best_x = None\n",
    "    best_value = None\n",
    "    initial_guesses = []  # Store initial guesses\n",
    "    iterations = 0  # Track number of iterations\n",
    "    \n",
    "    for k in range(max_iterations):\n",
    "        x_k = np.random.uniform(bounds[0], bounds[1])  # Step 3.A\n",
    "        \n",
    "        if k >= warmup_iterations:\n",
    "            chi_k = 0.50 * (2 / (1 + np.exp((k - warmup_iterations) / 100)))  # Step 3.C\n",
    "            x_k0 = chi_k * x_k + (1 - chi_k) * best_x  # Step 3.D\n",
    "            initial_guesses.append(x_k0)  # Store initial guess\n",
    "            x0 = x_k0\n",
    "        else:\n",
    "            x0 = x_k\n",
    "        \n",
    "        result = minimize(griewank, x0, method='BFGS', tol=tolerance)  # Step 3.E\n",
    "        \n",
    "        if best_value is None or result.fun < best_value:  # Step 3.F\n",
    "            best_x = result.x\n",
    "            best_value = result.fun\n",
    "        \n",
    "        if best_value < tolerance:  # Step 3.G\n",
    "            break\n",
    "        \n",
    "        iterations += 1\n",
    "    \n",
    "    return best_x, initial_guesses, iterations\n",
    "\n",
    "# Settings\n",
    "bounds = [np.array([-600, -600]), np.array([600, 600])]\n",
    "tolerance = 1e-8\n",
    "max_iterations = 1000\n",
    "\n",
    "# Perform optimization with K = 10\n",
    "warmup_iterations_k10 = 10\n",
    "result_k10, _, iterations_k10 = refined_global_optimizer(bounds, tolerance, warmup_iterations_k10, max_iterations)\n",
    "\n",
    "# Perform optimization with K = 100\n",
    "warmup_iterations_k100 = 100\n",
    "result_k100, _, iterations_k100 = refined_global_optimizer(bounds, tolerance, warmup_iterations_k100, max_iterations)\n",
    "\n",
    "print(\"Optimal solution for K = 10:\")\n",
    "print(\"x1 =\", result_k10[0])\n",
    "print(\"x2 =\", result_k10[1])\n",
    "print(\"Minimum value =\", griewank(result_k10))\n",
    "print(\"Number of iterations for K = 10:\", iterations_k10)\n",
    "\n",
    "print(\"Optimal solution for K = 100:\")\n",
    "print(\"x1 =\", result_k100[0])\n",
    "print(\"x2 =\", result_k100[1])\n",
    "print(\"Minimum value =\", griewank(result_k100))\n",
    "print(\"Number of iterations for K = 100:\", iterations_k100)\n"
   ]
  },
  {
   "attachments": {},
   "cell_type": "markdown",
   "metadata": {},
   "source": [
    "Since the number of iterations for $\\underline{K}=100$ is 499 compared to 298 for $\\underline{K}=10$ we can conclude that it is not necessarily a better idea to set $\\underline{K} = 100$. "
   ]
  }
 ],
 "metadata": {
  "kernelspec": {
   "display_name": "base",
   "language": "python",
   "name": "python3"
  },
  "language_info": {
   "codemirror_mode": {
    "name": "ipython",
    "version": 3
   },
   "file_extension": ".py",
   "mimetype": "text/x-python",
   "name": "python",
   "nbconvert_exporter": "python",
   "pygments_lexer": "ipython3",
   "version": "3.9.13"
  },
  "orig_nbformat": 4
 },
 "nbformat": 4,
 "nbformat_minor": 2
}
